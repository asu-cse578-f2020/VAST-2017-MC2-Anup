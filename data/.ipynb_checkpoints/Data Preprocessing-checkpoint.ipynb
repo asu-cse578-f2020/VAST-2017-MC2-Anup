{
 "cells": [
  {
   "cell_type": "code",
   "execution_count": 1,
   "metadata": {},
   "outputs": [
    {
     "ename": "ModuleNotFoundError",
     "evalue": "No module named 'geopy'",
     "output_type": "error",
     "traceback": [
      "\u001b[0;31m---------------------------------------------------------------------------\u001b[0m",
      "\u001b[0;31mModuleNotFoundError\u001b[0m                       Traceback (most recent call last)",
      "\u001b[0;32m<ipython-input-1-8790a7dd8bfd>\u001b[0m in \u001b[0;36m<module>\u001b[0;34m\u001b[0m\n\u001b[1;32m      1\u001b[0m \u001b[0;32mimport\u001b[0m \u001b[0mpandas\u001b[0m \u001b[0;32mas\u001b[0m \u001b[0mpd\u001b[0m\u001b[0;34m\u001b[0m\u001b[0;34m\u001b[0m\u001b[0m\n\u001b[1;32m      2\u001b[0m \u001b[0;31m#import geopy\u001b[0m\u001b[0;34m\u001b[0m\u001b[0;34m\u001b[0m\u001b[0;34m\u001b[0m\u001b[0m\n\u001b[0;32m----> 3\u001b[0;31m \u001b[0;32mimport\u001b[0m \u001b[0mgeopy\u001b[0m\u001b[0;34m.\u001b[0m\u001b[0mdistance\u001b[0m\u001b[0;34m\u001b[0m\u001b[0;34m\u001b[0m\u001b[0m\n\u001b[0m\u001b[1;32m      4\u001b[0m \u001b[0;32mfrom\u001b[0m \u001b[0mshapely\u001b[0m\u001b[0;34m.\u001b[0m\u001b[0mgeometry\u001b[0m \u001b[0;32mimport\u001b[0m \u001b[0mPolygon\u001b[0m\u001b[0;34m,\u001b[0m \u001b[0mLineString\u001b[0m\u001b[0;34m,\u001b[0m \u001b[0mPoint\u001b[0m\u001b[0;34m\u001b[0m\u001b[0;34m\u001b[0m\u001b[0m\n\u001b[1;32m      5\u001b[0m \u001b[0;32mfrom\u001b[0m \u001b[0mmath\u001b[0m \u001b[0;32mimport\u001b[0m \u001b[0mcos\u001b[0m\u001b[0;34m\u001b[0m\u001b[0;34m\u001b[0m\u001b[0m\n",
      "\u001b[0;31mModuleNotFoundError\u001b[0m: No module named 'geopy'"
     ]
    }
   ],
   "source": [
    "import pandas as pd\n",
    "import geopy\n",
    "import geopy.distance\n",
    "from shapely.geometry import Polygon, LineString, Point \n",
    "from math import cos  \n",
    "from math import sin  \n",
    "from math import pi\n",
    "from datetime import datetime, timedelta"
   ]
  },
  {
   "cell_type": "code",
   "execution_count": null,
   "metadata": {},
   "outputs": [],
   "source": [
    "met_data = pd.read_excel('Meteorological Data.xlsx')\n",
    "sensor_data = pd.read_excel('Sensor Data.xlsx')"
   ]
  },
  {
   "cell_type": "code",
   "execution_count": null,
   "metadata": {},
   "outputs": [],
   "source": [
    "met_data_1 = met_data.copy()\n",
    "met_data_2 = met_data.copy()\n",
    "\n",
    "met_data_1['Date'] = met_data_1['Date'] + timedelta(hours=1)\n",
    "met_data_2['Date'] = met_data_2['Date'] + timedelta(hours=2)\n",
    "\n",
    "met_data = met_data.append([met_data_1, met_data_2]).sort_values('Date').reset_index(drop=True)"
   ]
  },
  {
   "cell_type": "code",
   "execution_count": null,
   "metadata": {},
   "outputs": [],
   "source": [
    "merged_data = sensor_data.merge(met_data[['Date', 'Wind Direction', 'Wind Speed (m/s)']].rename(columns={'Date': 'Date Time '}), on='Date Time ')\n",
    "merged_data"
   ]
  },
  {
   "cell_type": "code",
   "execution_count": null,
   "metadata": {},
   "outputs": [],
   "source": [
    "for i, row in merged_data.iterrows():\n",
    "    if row['Wind Direction'] <= 180:\n",
    "        merged_data.loc[i, 'actual_direction'] = row['Wind Direction'] + 180\n",
    "    else:\n",
    "        merged_data.loc[i, 'actual_direction'] = row['Wind Direction'] - 180"
   ]
  },
  {
   "cell_type": "code",
   "execution_count": null,
   "metadata": {},
   "outputs": [],
   "source": [
    "sensor_loc_map = {1: [62,21],\n",
    "                2: [66,35],\n",
    "                3: [76,41],\n",
    "                4: [88,45],\n",
    "                5: [103,43],\n",
    "                6: [102,22],\n",
    "                7: [89,3],\n",
    "                8: [74,7],\n",
    "                9: [119,42]}"
   ]
  },
  {
   "cell_type": "code",
   "execution_count": null,
   "metadata": {},
   "outputs": [],
   "source": [
    "merged_data['Coordinates'] = merged_data['Monitor'].map(sensor_loc_map)\n",
    "roadrunner = Point(89, 27)\n",
    "kasios = Point(90, 21)\n",
    "radiance = Point(109, 26)\n",
    "indigo = Point(120, 22)"
   ]
  },
  {
   "cell_type": "code",
   "execution_count": null,
   "metadata": {},
   "outputs": [],
   "source": [
    "def factory_distances(x, y, angle):  \n",
    "\n",
    "    angle = angle * pi / 180.0  \n",
    "    line = LineString([(x, y), (x + 10000 * sin(angle), y + 10000 * cos(angle))]) \n",
    "    \n",
    "    roadrunner_dist = roadrunner.distance(line)\n",
    "    kasios_dist = kasios.distance(line)\n",
    "    radiance_dist = radiance.distance(line)\n",
    "    indigo_dist = indigo.distance(line)\n",
    "    \n",
    "    return roadrunner_dist, kasios_dist, radiance_dist, indigo_dist"
   ]
  },
  {
   "cell_type": "code",
   "execution_count": null,
   "metadata": {},
   "outputs": [],
   "source": [
    "for i, row in merged_data.iterrows():\n",
    "    roadrunner_dist, kasios_dist, radiance_dist, indigo_dist = factory_distances(row['Coordinates'][0], row['Coordinates'][1], row['actual_direction'])\n",
    "    merged_data.loc[i, 'roadrunner_dist'] = roadrunner_dist\n",
    "    merged_data.loc[i, 'kasios_dist'] = kasios_dist\n",
    "    merged_data.loc[i, 'radiance_dist'] = radiance_dist\n",
    "    merged_data.loc[i, 'indigo_dist'] = indigo_dist\n",
    "    \n",
    "    l = [roadrunner_dist, kasios_dist, radiance_dist, indigo_dist]\n",
    "    indices_order = [l.index(x) for x in sorted(l)]\n",
    "    merged_data.loc[i, 'highest_contributor'] = indices_order[0]\n",
    "    merged_data.loc[i, 'second_highest_contributor'] = indices_order[1]\n",
    "    merged_data.loc[i, 'third_highest_contributor'] = indices_order[2]\n",
    "    merged_data.loc[i, 'fourth_highest_contributor'] = indices_order[3]"
   ]
  },
  {
   "cell_type": "code",
   "execution_count": null,
   "metadata": {},
   "outputs": [],
   "source": [
    "factory_map = {0: 'Roadrunner Fitness Electronics',\n",
    "                1: 'Kasios Office Furniture',\n",
    "                2: 'Radiance ColourTek',\n",
    "                3: 'Indigo Sol Boards',}"
   ]
  },
  {
   "cell_type": "code",
   "execution_count": null,
   "metadata": {},
   "outputs": [],
   "source": [
    "merged_data['highest_contributor'] = merged_data['highest_contributor'].map(factory_map)\n",
    "merged_data['second_highest_contributor'] = merged_data['second_highest_contributor'].map(factory_map)\n",
    "merged_data['third_highest_contributor'] = merged_data['third_highest_contributor'].map(factory_map)\n",
    "merged_data['fourth_highest_contributor'] = merged_data['fourth_highest_contributor'].map(factory_map)"
   ]
  },
  {
   "cell_type": "code",
   "execution_count": null,
   "metadata": {},
   "outputs": [],
   "source": [
    "merged_data"
   ]
  },
  {
   "cell_type": "code",
   "execution_count": null,
   "metadata": {},
   "outputs": [],
   "source": [
    "merged_data.to_csv('complete_data.csv', index=False)"
   ]
  },
  {
   "cell_type": "code",
   "execution_count": null,
   "metadata": {},
   "outputs": [],
   "source": [
    "merged_data.columns"
   ]
  },
  {
   "cell_type": "code",
   "execution_count": null,
   "metadata": {},
   "outputs": [],
   "source": []
  }
 ],
 "metadata": {
  "kernelspec": {
   "display_name": "Python 3",
   "language": "python",
   "name": "python3"
  },
  "language_info": {
   "codemirror_mode": {
    "name": "ipython",
    "version": 3
   },
   "file_extension": ".py",
   "mimetype": "text/x-python",
   "name": "python",
   "nbconvert_exporter": "python",
   "pygments_lexer": "ipython3",
   "version": "3.7.3"
  }
 },
 "nbformat": 4,
 "nbformat_minor": 4
}
