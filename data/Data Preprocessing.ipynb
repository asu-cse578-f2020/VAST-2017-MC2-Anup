{
 "cells": [
  {
   "cell_type": "code",
   "execution_count": 10,
   "metadata": {},
   "outputs": [],
   "source": [
    "import pandas as pd\n",
    "import geopy\n",
    "import geopy.distance\n",
    "from shapely.geometry import Polygon, LineString, Point \n",
    "from math import cos  \n",
    "from math import sin  \n",
    "from math import pi\n",
    "from datetime import datetime, timedelta"
   ]
  },
  {
   "cell_type": "code",
   "execution_count": 32,
   "metadata": {},
   "outputs": [],
   "source": [
    "met_data = pd.read_excel('Meteorological Data.xlsx')\n",
    "sensor_data = pd.read_excel('Sensor Data.xlsx')"
   ]
  },
  {
   "cell_type": "code",
   "execution_count": 33,
   "metadata": {},
   "outputs": [],
   "source": [
    "met_data_1 = met_data.copy()\n",
    "met_data_2 = met_data.copy()\n",
    "\n",
    "met_data_1['Date'] = met_data_1['Date'] + timedelta(hours=1)\n",
    "met_data_2['Date'] = met_data_2['Date'] + timedelta(hours=2)\n",
    "\n",
    "met_data = met_data.append([met_data_1, met_data_2]).sort_values('Date').reset_index(drop=True)"
   ]
  },
  {
   "cell_type": "code",
   "execution_count": 34,
   "metadata": {},
   "outputs": [
    {
     "output_type": "error",
     "ename": "ValueError",
     "evalue": "You are trying to merge on object and datetime64[ns] columns. If you wish to proceed you should use pd.concat",
     "traceback": [
      "\u001b[0;31m---------------------------------------------------------------------------\u001b[0m",
      "\u001b[0;31mValueError\u001b[0m                                Traceback (most recent call last)",
      "\u001b[0;32m<ipython-input-34-c66a3530e2fa>\u001b[0m in \u001b[0;36m<module>\u001b[0;34m\u001b[0m\n\u001b[0;32m----> 1\u001b[0;31m \u001b[0mmerged_data\u001b[0m \u001b[0;34m=\u001b[0m \u001b[0msensor_data\u001b[0m\u001b[0;34m.\u001b[0m\u001b[0mmerge\u001b[0m\u001b[0;34m(\u001b[0m\u001b[0mmet_data\u001b[0m\u001b[0;34m[\u001b[0m\u001b[0;34m[\u001b[0m\u001b[0;34m'Date'\u001b[0m\u001b[0;34m,\u001b[0m \u001b[0;34m'Wind Direction'\u001b[0m\u001b[0;34m,\u001b[0m \u001b[0;34m'Wind Speed (m/s)'\u001b[0m\u001b[0;34m]\u001b[0m\u001b[0;34m]\u001b[0m\u001b[0;34m.\u001b[0m\u001b[0mrename\u001b[0m\u001b[0;34m(\u001b[0m\u001b[0mcolumns\u001b[0m\u001b[0;34m=\u001b[0m\u001b[0;34m{\u001b[0m\u001b[0;34m'Date'\u001b[0m\u001b[0;34m:\u001b[0m \u001b[0;34m'Date Time '\u001b[0m\u001b[0;34m}\u001b[0m\u001b[0;34m)\u001b[0m\u001b[0;34m,\u001b[0m \u001b[0mon\u001b[0m\u001b[0;34m=\u001b[0m\u001b[0;34m'Date Time '\u001b[0m\u001b[0;34m)\u001b[0m\u001b[0;34m\u001b[0m\u001b[0;34m\u001b[0m\u001b[0m\n\u001b[0m\u001b[1;32m      2\u001b[0m \u001b[0mmerged_data\u001b[0m\u001b[0;34m\u001b[0m\u001b[0;34m\u001b[0m\u001b[0m\n",
      "\u001b[0;32m/usr/local/lib/python3.6/dist-packages/pandas/core/frame.py\u001b[0m in \u001b[0;36mmerge\u001b[0;34m(self, right, how, on, left_on, right_on, left_index, right_index, sort, suffixes, copy, indicator, validate)\u001b[0m\n\u001b[1;32m   7957\u001b[0m             \u001b[0mcopy\u001b[0m\u001b[0;34m=\u001b[0m\u001b[0mcopy\u001b[0m\u001b[0;34m,\u001b[0m\u001b[0;34m\u001b[0m\u001b[0;34m\u001b[0m\u001b[0m\n\u001b[1;32m   7958\u001b[0m             \u001b[0mindicator\u001b[0m\u001b[0;34m=\u001b[0m\u001b[0mindicator\u001b[0m\u001b[0;34m,\u001b[0m\u001b[0;34m\u001b[0m\u001b[0;34m\u001b[0m\u001b[0m\n\u001b[0;32m-> 7959\u001b[0;31m             \u001b[0mvalidate\u001b[0m\u001b[0;34m=\u001b[0m\u001b[0mvalidate\u001b[0m\u001b[0;34m,\u001b[0m\u001b[0;34m\u001b[0m\u001b[0;34m\u001b[0m\u001b[0m\n\u001b[0m\u001b[1;32m   7960\u001b[0m         )\n\u001b[1;32m   7961\u001b[0m \u001b[0;34m\u001b[0m\u001b[0m\n",
      "\u001b[0;32m/usr/local/lib/python3.6/dist-packages/pandas/core/reshape/merge.py\u001b[0m in \u001b[0;36mmerge\u001b[0;34m(left, right, how, on, left_on, right_on, left_index, right_index, sort, suffixes, copy, indicator, validate)\u001b[0m\n\u001b[1;32m     85\u001b[0m         \u001b[0mcopy\u001b[0m\u001b[0;34m=\u001b[0m\u001b[0mcopy\u001b[0m\u001b[0;34m,\u001b[0m\u001b[0;34m\u001b[0m\u001b[0;34m\u001b[0m\u001b[0m\n\u001b[1;32m     86\u001b[0m         \u001b[0mindicator\u001b[0m\u001b[0;34m=\u001b[0m\u001b[0mindicator\u001b[0m\u001b[0;34m,\u001b[0m\u001b[0;34m\u001b[0m\u001b[0;34m\u001b[0m\u001b[0m\n\u001b[0;32m---> 87\u001b[0;31m         \u001b[0mvalidate\u001b[0m\u001b[0;34m=\u001b[0m\u001b[0mvalidate\u001b[0m\u001b[0;34m,\u001b[0m\u001b[0;34m\u001b[0m\u001b[0;34m\u001b[0m\u001b[0m\n\u001b[0m\u001b[1;32m     88\u001b[0m     )\n\u001b[1;32m     89\u001b[0m     \u001b[0;32mreturn\u001b[0m \u001b[0mop\u001b[0m\u001b[0;34m.\u001b[0m\u001b[0mget_result\u001b[0m\u001b[0;34m(\u001b[0m\u001b[0;34m)\u001b[0m\u001b[0;34m\u001b[0m\u001b[0;34m\u001b[0m\u001b[0m\n",
      "\u001b[0;32m/usr/local/lib/python3.6/dist-packages/pandas/core/reshape/merge.py\u001b[0m in \u001b[0;36m__init__\u001b[0;34m(self, left, right, how, on, left_on, right_on, axis, left_index, right_index, sort, suffixes, copy, indicator, validate)\u001b[0m\n\u001b[1;32m    654\u001b[0m         \u001b[0;31m# validate the merge keys dtypes. We may need to coerce\u001b[0m\u001b[0;34m\u001b[0m\u001b[0;34m\u001b[0m\u001b[0;34m\u001b[0m\u001b[0m\n\u001b[1;32m    655\u001b[0m         \u001b[0;31m# to avoid incompatible dtypes\u001b[0m\u001b[0;34m\u001b[0m\u001b[0;34m\u001b[0m\u001b[0;34m\u001b[0m\u001b[0m\n\u001b[0;32m--> 656\u001b[0;31m         \u001b[0mself\u001b[0m\u001b[0;34m.\u001b[0m\u001b[0m_maybe_coerce_merge_keys\u001b[0m\u001b[0;34m(\u001b[0m\u001b[0;34m)\u001b[0m\u001b[0;34m\u001b[0m\u001b[0;34m\u001b[0m\u001b[0m\n\u001b[0m\u001b[1;32m    657\u001b[0m \u001b[0;34m\u001b[0m\u001b[0m\n\u001b[1;32m    658\u001b[0m         \u001b[0;31m# If argument passed to validate,\u001b[0m\u001b[0;34m\u001b[0m\u001b[0;34m\u001b[0m\u001b[0;34m\u001b[0m\u001b[0m\n",
      "\u001b[0;32m/usr/local/lib/python3.6/dist-packages/pandas/core/reshape/merge.py\u001b[0m in \u001b[0;36m_maybe_coerce_merge_keys\u001b[0;34m(self)\u001b[0m\n\u001b[1;32m   1169\u001b[0m                 \u001b[0;32mraise\u001b[0m \u001b[0mValueError\u001b[0m\u001b[0;34m(\u001b[0m\u001b[0mmsg\u001b[0m\u001b[0;34m)\u001b[0m\u001b[0;34m\u001b[0m\u001b[0;34m\u001b[0m\u001b[0m\n\u001b[1;32m   1170\u001b[0m             \u001b[0;32melif\u001b[0m \u001b[0;32mnot\u001b[0m \u001b[0mneeds_i8_conversion\u001b[0m\u001b[0;34m(\u001b[0m\u001b[0mlk\u001b[0m\u001b[0;34m.\u001b[0m\u001b[0mdtype\u001b[0m\u001b[0;34m)\u001b[0m \u001b[0;32mand\u001b[0m \u001b[0mneeds_i8_conversion\u001b[0m\u001b[0;34m(\u001b[0m\u001b[0mrk\u001b[0m\u001b[0;34m.\u001b[0m\u001b[0mdtype\u001b[0m\u001b[0;34m)\u001b[0m\u001b[0;34m:\u001b[0m\u001b[0;34m\u001b[0m\u001b[0;34m\u001b[0m\u001b[0m\n\u001b[0;32m-> 1171\u001b[0;31m                 \u001b[0;32mraise\u001b[0m \u001b[0mValueError\u001b[0m\u001b[0;34m(\u001b[0m\u001b[0mmsg\u001b[0m\u001b[0;34m)\u001b[0m\u001b[0;34m\u001b[0m\u001b[0;34m\u001b[0m\u001b[0m\n\u001b[0m\u001b[1;32m   1172\u001b[0m             elif is_datetime64tz_dtype(lk.dtype) and not is_datetime64tz_dtype(\n\u001b[1;32m   1173\u001b[0m                 \u001b[0mrk\u001b[0m\u001b[0;34m.\u001b[0m\u001b[0mdtype\u001b[0m\u001b[0;34m\u001b[0m\u001b[0;34m\u001b[0m\u001b[0m\n",
      "\u001b[0;31mValueError\u001b[0m: You are trying to merge on object and datetime64[ns] columns. If you wish to proceed you should use pd.concat"
     ]
    }
   ],
   "source": [
    "merged_data = sensor_data.merge(met_data[['Date', 'Wind Direction', 'Wind Speed (m/s)']].rename(columns={'Date': 'Date Time '}), on='Date Time ')\n",
    "merged_data"
   ]
  },
  {
   "cell_type": "code",
   "execution_count": 5,
   "metadata": {},
   "outputs": [],
   "source": [
    "for i, row in merged_data.iterrows():\n",
    "    if row['Wind Direction'] <= 180:\n",
    "        merged_data.loc[i, 'actual_direction'] = row['Wind Direction'] + 180\n",
    "    else:\n",
    "        merged_data.loc[i, 'actual_direction'] = row['Wind Direction'] - 180"
   ]
  },
  {
   "cell_type": "code",
   "execution_count": 6,
   "metadata": {},
   "outputs": [],
   "source": [
    "sensor_loc_map = {1: [62,21],\n",
    "                2: [66,35],\n",
    "                3: [76,41],\n",
    "                4: [88,45],\n",
    "                5: [103,43],\n",
    "                6: [102,22],\n",
    "                7: [89,3],\n",
    "                8: [74,7],\n",
    "                9: [119,42]}"
   ]
  },
  {
   "cell_type": "code",
   "execution_count": 7,
   "metadata": {},
   "outputs": [],
   "source": [
    "merged_data['Coordinates'] = merged_data['Monitor'].map(sensor_loc_map)\n",
    "roadrunner = Point(89, 27)\n",
    "kasios = Point(90, 21)\n",
    "radiance = Point(109, 26)\n",
    "indigo = Point(120, 22)"
   ]
  },
  {
   "cell_type": "code",
   "execution_count": 8,
   "metadata": {},
   "outputs": [],
   "source": [
    "def factory_distances(x, y, angle):  \n",
    "\n",
    "    angle = angle * pi / 180.0  \n",
    "    line = LineString([(x, y), (x + 10000 * sin(angle), y + 10000 * cos(angle))]) \n",
    "    \n",
    "    roadrunner_dist = roadrunner.distance(line)\n",
    "    kasios_dist = kasios.distance(line)\n",
    "    radiance_dist = radiance.distance(line)\n",
    "    indigo_dist = indigo.distance(line)\n",
    "    \n",
    "    return roadrunner_dist, kasios_dist, radiance_dist, indigo_dist"
   ]
  },
  {
   "cell_type": "code",
   "execution_count": 9,
   "metadata": {},
   "outputs": [
    {
     "ename": "KeyboardInterrupt",
     "evalue": "",
     "output_type": "error",
     "traceback": [
      "\u001b[0;31m---------------------------------------------------------------------------\u001b[0m",
      "\u001b[0;31mKeyboardInterrupt\u001b[0m                         Traceback (most recent call last)",
      "\u001b[0;32m<ipython-input-9-4a06f10b7a3b>\u001b[0m in \u001b[0;36m<module>\u001b[0;34m\u001b[0m\n\u001b[1;32m     11\u001b[0m     \u001b[0mmerged_data\u001b[0m\u001b[0;34m.\u001b[0m\u001b[0mloc\u001b[0m\u001b[0;34m[\u001b[0m\u001b[0mi\u001b[0m\u001b[0;34m,\u001b[0m \u001b[0;34m'second_highest_contributor'\u001b[0m\u001b[0;34m]\u001b[0m \u001b[0;34m=\u001b[0m \u001b[0mindices_order\u001b[0m\u001b[0;34m[\u001b[0m\u001b[0;36m1\u001b[0m\u001b[0;34m]\u001b[0m\u001b[0;34m\u001b[0m\u001b[0;34m\u001b[0m\u001b[0m\n\u001b[1;32m     12\u001b[0m     \u001b[0mmerged_data\u001b[0m\u001b[0;34m.\u001b[0m\u001b[0mloc\u001b[0m\u001b[0;34m[\u001b[0m\u001b[0mi\u001b[0m\u001b[0;34m,\u001b[0m \u001b[0;34m'third_highest_contributor'\u001b[0m\u001b[0;34m]\u001b[0m \u001b[0;34m=\u001b[0m \u001b[0mindices_order\u001b[0m\u001b[0;34m[\u001b[0m\u001b[0;36m2\u001b[0m\u001b[0;34m]\u001b[0m\u001b[0;34m\u001b[0m\u001b[0;34m\u001b[0m\u001b[0m\n\u001b[0;32m---> 13\u001b[0;31m     \u001b[0mmerged_data\u001b[0m\u001b[0;34m.\u001b[0m\u001b[0mloc\u001b[0m\u001b[0;34m[\u001b[0m\u001b[0mi\u001b[0m\u001b[0;34m,\u001b[0m \u001b[0;34m'fourth_highest_contributor'\u001b[0m\u001b[0;34m]\u001b[0m \u001b[0;34m=\u001b[0m \u001b[0mindices_order\u001b[0m\u001b[0;34m[\u001b[0m\u001b[0;36m3\u001b[0m\u001b[0;34m]\u001b[0m\u001b[0;34m\u001b[0m\u001b[0;34m\u001b[0m\u001b[0m\n\u001b[0m",
      "\u001b[0;32m~/anaconda3/lib/python3.7/site-packages/pandas/core/indexing.py\u001b[0m in \u001b[0;36m__setitem__\u001b[0;34m(self, key, value)\u001b[0m\n\u001b[1;32m    669\u001b[0m             \u001b[0mkey\u001b[0m \u001b[0;34m=\u001b[0m \u001b[0mcom\u001b[0m\u001b[0;34m.\u001b[0m\u001b[0mapply_if_callable\u001b[0m\u001b[0;34m(\u001b[0m\u001b[0mkey\u001b[0m\u001b[0;34m,\u001b[0m \u001b[0mself\u001b[0m\u001b[0;34m.\u001b[0m\u001b[0mobj\u001b[0m\u001b[0;34m)\u001b[0m\u001b[0;34m\u001b[0m\u001b[0;34m\u001b[0m\u001b[0m\n\u001b[1;32m    670\u001b[0m         \u001b[0mindexer\u001b[0m \u001b[0;34m=\u001b[0m \u001b[0mself\u001b[0m\u001b[0;34m.\u001b[0m\u001b[0m_get_setitem_indexer\u001b[0m\u001b[0;34m(\u001b[0m\u001b[0mkey\u001b[0m\u001b[0;34m)\u001b[0m\u001b[0;34m\u001b[0m\u001b[0;34m\u001b[0m\u001b[0m\n\u001b[0;32m--> 671\u001b[0;31m         \u001b[0mself\u001b[0m\u001b[0;34m.\u001b[0m\u001b[0m_setitem_with_indexer\u001b[0m\u001b[0;34m(\u001b[0m\u001b[0mindexer\u001b[0m\u001b[0;34m,\u001b[0m \u001b[0mvalue\u001b[0m\u001b[0;34m)\u001b[0m\u001b[0;34m\u001b[0m\u001b[0;34m\u001b[0m\u001b[0m\n\u001b[0m\u001b[1;32m    672\u001b[0m \u001b[0;34m\u001b[0m\u001b[0m\n\u001b[1;32m    673\u001b[0m     \u001b[0;32mdef\u001b[0m \u001b[0m_validate_key\u001b[0m\u001b[0;34m(\u001b[0m\u001b[0mself\u001b[0m\u001b[0;34m,\u001b[0m \u001b[0mkey\u001b[0m\u001b[0;34m,\u001b[0m \u001b[0maxis\u001b[0m\u001b[0;34m:\u001b[0m \u001b[0mint\u001b[0m\u001b[0;34m)\u001b[0m\u001b[0;34m:\u001b[0m\u001b[0;34m\u001b[0m\u001b[0;34m\u001b[0m\u001b[0m\n",
      "\u001b[0;32m~/anaconda3/lib/python3.7/site-packages/pandas/core/indexing.py\u001b[0m in \u001b[0;36m_setitem_with_indexer\u001b[0;34m(self, indexer, value)\u001b[0m\n\u001b[1;32m   1027\u001b[0m                 \u001b[0;31m# scalar\u001b[0m\u001b[0;34m\u001b[0m\u001b[0;34m\u001b[0m\u001b[0;34m\u001b[0m\u001b[0m\n\u001b[1;32m   1028\u001b[0m                 \u001b[0;32mfor\u001b[0m \u001b[0mitem\u001b[0m \u001b[0;32min\u001b[0m \u001b[0mlabels\u001b[0m\u001b[0;34m:\u001b[0m\u001b[0;34m\u001b[0m\u001b[0;34m\u001b[0m\u001b[0m\n\u001b[0;32m-> 1029\u001b[0;31m                     \u001b[0msetter\u001b[0m\u001b[0;34m(\u001b[0m\u001b[0mitem\u001b[0m\u001b[0;34m,\u001b[0m \u001b[0mvalue\u001b[0m\u001b[0;34m)\u001b[0m\u001b[0;34m\u001b[0m\u001b[0;34m\u001b[0m\u001b[0m\n\u001b[0m\u001b[1;32m   1030\u001b[0m \u001b[0;34m\u001b[0m\u001b[0m\n\u001b[1;32m   1031\u001b[0m         \u001b[0;32melse\u001b[0m\u001b[0;34m:\u001b[0m\u001b[0;34m\u001b[0m\u001b[0;34m\u001b[0m\u001b[0m\n",
      "\u001b[0;32m~/anaconda3/lib/python3.7/site-packages/pandas/core/indexing.py\u001b[0m in \u001b[0;36msetter\u001b[0;34m(item, v)\u001b[0m\n\u001b[1;32m    964\u001b[0m \u001b[0;34m\u001b[0m\u001b[0m\n\u001b[1;32m    965\u001b[0m                 \u001b[0;31m# reset the sliced object if unique\u001b[0m\u001b[0;34m\u001b[0m\u001b[0;34m\u001b[0m\u001b[0;34m\u001b[0m\u001b[0m\n\u001b[0;32m--> 966\u001b[0;31m                 \u001b[0mself\u001b[0m\u001b[0;34m.\u001b[0m\u001b[0mobj\u001b[0m\u001b[0;34m[\u001b[0m\u001b[0mitem\u001b[0m\u001b[0;34m]\u001b[0m \u001b[0;34m=\u001b[0m \u001b[0ms\u001b[0m\u001b[0;34m\u001b[0m\u001b[0;34m\u001b[0m\u001b[0m\n\u001b[0m\u001b[1;32m    967\u001b[0m \u001b[0;34m\u001b[0m\u001b[0m\n\u001b[1;32m    968\u001b[0m             \u001b[0;31m# we need an iterable, with a ndim of at least 1\u001b[0m\u001b[0;34m\u001b[0m\u001b[0;34m\u001b[0m\u001b[0;34m\u001b[0m\u001b[0m\n",
      "\u001b[0;32m~/anaconda3/lib/python3.7/site-packages/pandas/core/frame.py\u001b[0m in \u001b[0;36m__setitem__\u001b[0;34m(self, key, value)\u001b[0m\n\u001b[1;32m   2924\u001b[0m \u001b[0;34m\u001b[0m\u001b[0m\n\u001b[1;32m   2925\u001b[0m         \u001b[0;31m# see if we can slice the rows\u001b[0m\u001b[0;34m\u001b[0m\u001b[0;34m\u001b[0m\u001b[0;34m\u001b[0m\u001b[0m\n\u001b[0;32m-> 2926\u001b[0;31m         \u001b[0mindexer\u001b[0m \u001b[0;34m=\u001b[0m \u001b[0mconvert_to_index_sliceable\u001b[0m\u001b[0;34m(\u001b[0m\u001b[0mself\u001b[0m\u001b[0;34m,\u001b[0m \u001b[0mkey\u001b[0m\u001b[0;34m)\u001b[0m\u001b[0;34m\u001b[0m\u001b[0;34m\u001b[0m\u001b[0m\n\u001b[0m\u001b[1;32m   2927\u001b[0m         \u001b[0;32mif\u001b[0m \u001b[0mindexer\u001b[0m \u001b[0;32mis\u001b[0m \u001b[0;32mnot\u001b[0m \u001b[0;32mNone\u001b[0m\u001b[0;34m:\u001b[0m\u001b[0;34m\u001b[0m\u001b[0;34m\u001b[0m\u001b[0m\n\u001b[1;32m   2928\u001b[0m             \u001b[0;31m# either we have a slice or we have a string that can be converted\u001b[0m\u001b[0;34m\u001b[0m\u001b[0;34m\u001b[0m\u001b[0;34m\u001b[0m\u001b[0m\n",
      "\u001b[0;32m~/anaconda3/lib/python3.7/site-packages/pandas/core/indexing.py\u001b[0m in \u001b[0;36mconvert_to_index_sliceable\u001b[0;34m(obj, key)\u001b[0m\n\u001b[1;32m   2264\u001b[0m     \"\"\"\n\u001b[1;32m   2265\u001b[0m     \u001b[0midx\u001b[0m \u001b[0;34m=\u001b[0m \u001b[0mobj\u001b[0m\u001b[0;34m.\u001b[0m\u001b[0mindex\u001b[0m\u001b[0;34m\u001b[0m\u001b[0;34m\u001b[0m\u001b[0m\n\u001b[0;32m-> 2266\u001b[0;31m     \u001b[0;32mif\u001b[0m \u001b[0misinstance\u001b[0m\u001b[0;34m(\u001b[0m\u001b[0mkey\u001b[0m\u001b[0;34m,\u001b[0m \u001b[0mslice\u001b[0m\u001b[0;34m)\u001b[0m\u001b[0;34m:\u001b[0m\u001b[0;34m\u001b[0m\u001b[0;34m\u001b[0m\u001b[0m\n\u001b[0m\u001b[1;32m   2267\u001b[0m         \u001b[0;32mreturn\u001b[0m \u001b[0midx\u001b[0m\u001b[0;34m.\u001b[0m\u001b[0m_convert_slice_indexer\u001b[0m\u001b[0;34m(\u001b[0m\u001b[0mkey\u001b[0m\u001b[0;34m,\u001b[0m \u001b[0mkind\u001b[0m\u001b[0;34m=\u001b[0m\u001b[0;34m\"getitem\"\u001b[0m\u001b[0;34m)\u001b[0m\u001b[0;34m\u001b[0m\u001b[0;34m\u001b[0m\u001b[0m\n\u001b[1;32m   2268\u001b[0m \u001b[0;34m\u001b[0m\u001b[0m\n",
      "\u001b[0;31mKeyboardInterrupt\u001b[0m: "
     ]
    }
   ],
   "source": [
    "for i, row in merged_data.iterrows():\n",
    "    roadrunner_dist, kasios_dist, radiance_dist, indigo_dist = factory_distances(row['Coordinates'][0], row['Coordinates'][1], row['actual_direction'])\n",
    "    merged_data.loc[i, 'roadrunner_dist'] = roadrunner_dist\n",
    "    merged_data.loc[i, 'kasios_dist'] = kasios_dist\n",
    "    merged_data.loc[i, 'radiance_dist'] = radiance_dist\n",
    "    merged_data.loc[i, 'indigo_dist'] = indigo_dist\n",
    "    \n",
    "    l = [roadrunner_dist, kasios_dist, radiance_dist, indigo_dist]\n",
    "    indices_order = [l.index(x) for x in sorted(l)]\n",
    "    merged_data.loc[i, 'highest_contributor'] = indices_order[0]\n",
    "    merged_data.loc[i, 'second_highest_contributor'] = indices_order[1]\n",
    "    merged_data.loc[i, 'third_highest_contributor'] = indices_order[2]\n",
    "    merged_data.loc[i, 'fourth_highest_contributor'] = indices_order[3]"
   ]
  },
  {
   "cell_type": "code",
   "execution_count": null,
   "metadata": {},
   "outputs": [],
   "source": [
    "factory_map = {0: 'Roadrunner Fitness Electronics',\n",
    "                1: 'Kasios Office Furniture',\n",
    "                2: 'Radiance ColourTek',\n",
    "                3: 'Indigo Sol Boards',}"
   ]
  },
  {
   "cell_type": "code",
   "execution_count": null,
   "metadata": {},
   "outputs": [],
   "source": [
    "merged_data['highest_contributor'] = merged_data['highest_contributor'].map(factory_map)\n",
    "merged_data['second_highest_contributor'] = merged_data['second_highest_contributor'].map(factory_map)\n",
    "merged_data['third_highest_contributor'] = merged_data['third_highest_contributor'].map(factory_map)\n",
    "merged_data['fourth_highest_contributor'] = merged_data['fourth_highest_contributor'].map(factory_map)"
   ]
  },
  {
   "cell_type": "code",
   "execution_count": null,
   "metadata": {},
   "outputs": [],
   "source": [
    "merged_data"
   ]
  },
  {
   "cell_type": "code",
   "execution_count": null,
   "metadata": {},
   "outputs": [],
   "source": [
    "merged_data.to_csv('complete_data.csv', index=False)"
   ]
  },
  {
   "cell_type": "code",
   "execution_count": 65,
   "metadata": {},
   "outputs": [
    {
     "output_type": "stream",
     "name": "stderr",
     "text": [
      "/usr/local/lib/python3.6/dist-packages/IPython/core/interactiveshell.py:3058: DtypeWarning: Columns (8,9,10,11) have mixed types.Specify dtype option on import or set low_memory=False.\n  interactivity=interactivity, compiler=compiler, result=result)\n/usr/local/lib/python3.6/dist-packages/ipykernel_launcher.py:2: UserWarning: Boolean Series key will be reindexed to match DataFrame index.\n  \n"
     ]
    },
    {
     "output_type": "execute_result",
     "data": {
      "text/plain": [
       "             Chemical  Monitor           Date Time    Reading  Wind Direction  \\\n",
       "index                                                                           \n",
       "11     Methylosmolene        1  2016-04-01 00:00:00  0.417423           190.5   \n",
       "49     Methylosmolene        1  2016-04-01 01:00:00  0.381961           190.5   \n",
       "105    Methylosmolene        1  2016-04-01 02:00:00  0.037844           190.5   \n",
       "124    Methylosmolene        1  2016-04-01 03:00:00  0.353672           203.3   \n",
       "166    Methylosmolene        1  2016-04-01 04:00:00  0.284877           203.3   \n",
       "...               ...      ...                  ...       ...             ...   \n",
       "75920  Methylosmolene        1  2016-12-31 19:00:00  0.241271           177.0   \n",
       "75961  Methylosmolene        1  2016-12-31 20:00:00  0.099621           177.0   \n",
       "75994  Methylosmolene        1  2016-12-31 21:00:00  0.134625           161.0   \n",
       "76029  Methylosmolene        1  2016-12-31 22:00:00  0.142909           161.0   \n",
       "76057  Methylosmolene        1  2016-12-31 23:00:00  0.376994           161.0   \n",
       "\n",
       "       Wind Speed (m/s)  actual_direction Coordinates roadrunner_dist  \\\n",
       "index                                                                   \n",
       "11                  4.0              10.5    [62, 21]         25.4545   \n",
       "49                  4.0              10.5    [62, 21]         25.4545   \n",
       "105                 4.0              10.5    [62, 21]         25.4545   \n",
       "124                 5.0              23.3    [62, 21]         22.4248   \n",
       "166                 5.0              23.3    [62, 21]         22.4248   \n",
       "...                 ...               ...         ...             ...   \n",
       "75920               3.3             357.0    [62, 21]          27.277   \n",
       "75961               3.3             357.0    [62, 21]          27.277   \n",
       "75994               3.5             341.0    [62, 21]         27.6586   \n",
       "76029               3.5             341.0    [62, 21]         27.6586   \n",
       "76057               3.5             341.0    [62, 21]         27.6586   \n",
       "\n",
       "      kasios_dist radiance_dist indigo_dist             highest_contributor  \\\n",
       "index                                                                         \n",
       "11        27.5311       45.3018     56.8465  Roadrunner Fitness Electronics   \n",
       "49        27.5311       45.3018     56.8465  Roadrunner Fitness Electronics   \n",
       "105       27.5311       45.3018     56.8465  Roadrunner Fitness Electronics   \n",
       "124       25.7165       41.1893     52.8743  Roadrunner Fitness Electronics   \n",
       "166       25.7165       41.1893     52.8743  Roadrunner Fitness Electronics   \n",
       "...           ...           ...         ...                             ...   \n",
       "75920          28       47.1973     58.0086  Roadrunner Fitness Electronics   \n",
       "75961          28       47.1973     58.0086  Roadrunner Fitness Electronics   \n",
       "75994          28       47.2652     58.0086  Roadrunner Fitness Electronics   \n",
       "76029          28       47.2652     58.0086  Roadrunner Fitness Electronics   \n",
       "76057          28       47.2652     58.0086  Roadrunner Fitness Electronics   \n",
       "\n",
       "      second_highest_contributor third_highest_contributor  \\\n",
       "index                                                        \n",
       "11       Kasios Office Furniture        Radiance ColourTek   \n",
       "49       Kasios Office Furniture        Radiance ColourTek   \n",
       "105      Kasios Office Furniture        Radiance ColourTek   \n",
       "124      Kasios Office Furniture        Radiance ColourTek   \n",
       "166      Kasios Office Furniture        Radiance ColourTek   \n",
       "...                          ...                       ...   \n",
       "75920    Kasios Office Furniture        Radiance ColourTek   \n",
       "75961    Kasios Office Furniture        Radiance ColourTek   \n",
       "75994    Kasios Office Furniture        Radiance ColourTek   \n",
       "76029    Kasios Office Furniture        Radiance ColourTek   \n",
       "76057    Kasios Office Furniture        Radiance ColourTek   \n",
       "\n",
       "      fourth_highest_contributor  \n",
       "index                             \n",
       "11             Indigo Sol Boards  \n",
       "49             Indigo Sol Boards  \n",
       "105            Indigo Sol Boards  \n",
       "124            Indigo Sol Boards  \n",
       "166            Indigo Sol Boards  \n",
       "...                          ...  \n",
       "75920          Indigo Sol Boards  \n",
       "75961          Indigo Sol Boards  \n",
       "75994          Indigo Sol Boards  \n",
       "76029          Indigo Sol Boards  \n",
       "76057          Indigo Sol Boards  \n",
       "\n",
       "[2112 rows x 16 columns]"
      ],
      "text/html": "<div>\n<style scoped>\n    .dataframe tbody tr th:only-of-type {\n        vertical-align: middle;\n    }\n\n    .dataframe tbody tr th {\n        vertical-align: top;\n    }\n\n    .dataframe thead th {\n        text-align: right;\n    }\n</style>\n<table border=\"1\" class=\"dataframe\">\n  <thead>\n    <tr style=\"text-align: right;\">\n      <th></th>\n      <th>Chemical</th>\n      <th>Monitor</th>\n      <th>Date Time</th>\n      <th>Reading</th>\n      <th>Wind Direction</th>\n      <th>Wind Speed (m/s)</th>\n      <th>actual_direction</th>\n      <th>Coordinates</th>\n      <th>roadrunner_dist</th>\n      <th>kasios_dist</th>\n      <th>radiance_dist</th>\n      <th>indigo_dist</th>\n      <th>highest_contributor</th>\n      <th>second_highest_contributor</th>\n      <th>third_highest_contributor</th>\n      <th>fourth_highest_contributor</th>\n    </tr>\n    <tr>\n      <th>index</th>\n      <th></th>\n      <th></th>\n      <th></th>\n      <th></th>\n      <th></th>\n      <th></th>\n      <th></th>\n      <th></th>\n      <th></th>\n      <th></th>\n      <th></th>\n      <th></th>\n      <th></th>\n      <th></th>\n      <th></th>\n      <th></th>\n    </tr>\n  </thead>\n  <tbody>\n    <tr>\n      <th>11</th>\n      <td>Methylosmolene</td>\n      <td>1</td>\n      <td>2016-04-01 00:00:00</td>\n      <td>0.417423</td>\n      <td>190.5</td>\n      <td>4.0</td>\n      <td>10.5</td>\n      <td>[62, 21]</td>\n      <td>25.4545</td>\n      <td>27.5311</td>\n      <td>45.3018</td>\n      <td>56.8465</td>\n      <td>Roadrunner Fitness Electronics</td>\n      <td>Kasios Office Furniture</td>\n      <td>Radiance ColourTek</td>\n      <td>Indigo Sol Boards</td>\n    </tr>\n    <tr>\n      <th>49</th>\n      <td>Methylosmolene</td>\n      <td>1</td>\n      <td>2016-04-01 01:00:00</td>\n      <td>0.381961</td>\n      <td>190.5</td>\n      <td>4.0</td>\n      <td>10.5</td>\n      <td>[62, 21]</td>\n      <td>25.4545</td>\n      <td>27.5311</td>\n      <td>45.3018</td>\n      <td>56.8465</td>\n      <td>Roadrunner Fitness Electronics</td>\n      <td>Kasios Office Furniture</td>\n      <td>Radiance ColourTek</td>\n      <td>Indigo Sol Boards</td>\n    </tr>\n    <tr>\n      <th>105</th>\n      <td>Methylosmolene</td>\n      <td>1</td>\n      <td>2016-04-01 02:00:00</td>\n      <td>0.037844</td>\n      <td>190.5</td>\n      <td>4.0</td>\n      <td>10.5</td>\n      <td>[62, 21]</td>\n      <td>25.4545</td>\n      <td>27.5311</td>\n      <td>45.3018</td>\n      <td>56.8465</td>\n      <td>Roadrunner Fitness Electronics</td>\n      <td>Kasios Office Furniture</td>\n      <td>Radiance ColourTek</td>\n      <td>Indigo Sol Boards</td>\n    </tr>\n    <tr>\n      <th>124</th>\n      <td>Methylosmolene</td>\n      <td>1</td>\n      <td>2016-04-01 03:00:00</td>\n      <td>0.353672</td>\n      <td>203.3</td>\n      <td>5.0</td>\n      <td>23.3</td>\n      <td>[62, 21]</td>\n      <td>22.4248</td>\n      <td>25.7165</td>\n      <td>41.1893</td>\n      <td>52.8743</td>\n      <td>Roadrunner Fitness Electronics</td>\n      <td>Kasios Office Furniture</td>\n      <td>Radiance ColourTek</td>\n      <td>Indigo Sol Boards</td>\n    </tr>\n    <tr>\n      <th>166</th>\n      <td>Methylosmolene</td>\n      <td>1</td>\n      <td>2016-04-01 04:00:00</td>\n      <td>0.284877</td>\n      <td>203.3</td>\n      <td>5.0</td>\n      <td>23.3</td>\n      <td>[62, 21]</td>\n      <td>22.4248</td>\n      <td>25.7165</td>\n      <td>41.1893</td>\n      <td>52.8743</td>\n      <td>Roadrunner Fitness Electronics</td>\n      <td>Kasios Office Furniture</td>\n      <td>Radiance ColourTek</td>\n      <td>Indigo Sol Boards</td>\n    </tr>\n    <tr>\n      <th>...</th>\n      <td>...</td>\n      <td>...</td>\n      <td>...</td>\n      <td>...</td>\n      <td>...</td>\n      <td>...</td>\n      <td>...</td>\n      <td>...</td>\n      <td>...</td>\n      <td>...</td>\n      <td>...</td>\n      <td>...</td>\n      <td>...</td>\n      <td>...</td>\n      <td>...</td>\n      <td>...</td>\n    </tr>\n    <tr>\n      <th>75920</th>\n      <td>Methylosmolene</td>\n      <td>1</td>\n      <td>2016-12-31 19:00:00</td>\n      <td>0.241271</td>\n      <td>177.0</td>\n      <td>3.3</td>\n      <td>357.0</td>\n      <td>[62, 21]</td>\n      <td>27.277</td>\n      <td>28</td>\n      <td>47.1973</td>\n      <td>58.0086</td>\n      <td>Roadrunner Fitness Electronics</td>\n      <td>Kasios Office Furniture</td>\n      <td>Radiance ColourTek</td>\n      <td>Indigo Sol Boards</td>\n    </tr>\n    <tr>\n      <th>75961</th>\n      <td>Methylosmolene</td>\n      <td>1</td>\n      <td>2016-12-31 20:00:00</td>\n      <td>0.099621</td>\n      <td>177.0</td>\n      <td>3.3</td>\n      <td>357.0</td>\n      <td>[62, 21]</td>\n      <td>27.277</td>\n      <td>28</td>\n      <td>47.1973</td>\n      <td>58.0086</td>\n      <td>Roadrunner Fitness Electronics</td>\n      <td>Kasios Office Furniture</td>\n      <td>Radiance ColourTek</td>\n      <td>Indigo Sol Boards</td>\n    </tr>\n    <tr>\n      <th>75994</th>\n      <td>Methylosmolene</td>\n      <td>1</td>\n      <td>2016-12-31 21:00:00</td>\n      <td>0.134625</td>\n      <td>161.0</td>\n      <td>3.5</td>\n      <td>341.0</td>\n      <td>[62, 21]</td>\n      <td>27.6586</td>\n      <td>28</td>\n      <td>47.2652</td>\n      <td>58.0086</td>\n      <td>Roadrunner Fitness Electronics</td>\n      <td>Kasios Office Furniture</td>\n      <td>Radiance ColourTek</td>\n      <td>Indigo Sol Boards</td>\n    </tr>\n    <tr>\n      <th>76029</th>\n      <td>Methylosmolene</td>\n      <td>1</td>\n      <td>2016-12-31 22:00:00</td>\n      <td>0.142909</td>\n      <td>161.0</td>\n      <td>3.5</td>\n      <td>341.0</td>\n      <td>[62, 21]</td>\n      <td>27.6586</td>\n      <td>28</td>\n      <td>47.2652</td>\n      <td>58.0086</td>\n      <td>Roadrunner Fitness Electronics</td>\n      <td>Kasios Office Furniture</td>\n      <td>Radiance ColourTek</td>\n      <td>Indigo Sol Boards</td>\n    </tr>\n    <tr>\n      <th>76057</th>\n      <td>Methylosmolene</td>\n      <td>1</td>\n      <td>2016-12-31 23:00:00</td>\n      <td>0.376994</td>\n      <td>161.0</td>\n      <td>3.5</td>\n      <td>341.0</td>\n      <td>[62, 21]</td>\n      <td>27.6586</td>\n      <td>28</td>\n      <td>47.2652</td>\n      <td>58.0086</td>\n      <td>Roadrunner Fitness Electronics</td>\n      <td>Kasios Office Furniture</td>\n      <td>Radiance ColourTek</td>\n      <td>Indigo Sol Boards</td>\n    </tr>\n  </tbody>\n</table>\n<p>2112 rows × 16 columns</p>\n</div>"
     },
     "metadata": {},
     "execution_count": 65
    }
   ],
   "source": [
    "merged_data = pd.read_csv(\"complete_data.csv\")\n",
    "temp = merged_data[merged_data[\"Chemical\"] == \"Methylosmolene\"][merged_data[\"Monitor\"] == 1]\n",
    "temp.index.name = \"index\"\n",
    "temp[[\"Wind Direction\", \"Wind Speed (m/s)\"]].rename(columns={'Wind Direction': 'direction', \"Wind Speed (m/s)\" : \"speed\"}).to_csv(\"windData.csv\")\n",
    "temp"
   ]
  },
  {
   "cell_type": "code",
   "execution_count": null,
   "metadata": {},
   "outputs": [],
   "source": []
  }
 ],
 "metadata": {
  "kernelspec": {
   "display_name": "Python 3",
   "language": "python",
   "name": "python3"
  },
  "language_info": {
   "codemirror_mode": {
    "name": "ipython",
    "version": 3
   },
   "file_extension": ".py",
   "mimetype": "text/x-python",
   "name": "python",
   "nbconvert_exporter": "python",
   "pygments_lexer": "ipython3",
   "version": "3.6.9-final"
  }
 },
 "nbformat": 4,
 "nbformat_minor": 4
}