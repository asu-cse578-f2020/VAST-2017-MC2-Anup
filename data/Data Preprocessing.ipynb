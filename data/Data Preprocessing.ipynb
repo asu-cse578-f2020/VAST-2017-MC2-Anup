{
 "cells": [
  {
   "cell_type": "code",
   "execution_count": 1,
   "metadata": {},
   "outputs": [],
   "source": [
    "import pandas as pd\n",
    "import geopy\n",
    "import geopy.distance\n",
    "from shapely.geometry import Polygon, LineString, Point \n",
    "from math import cos  \n",
    "from math import sin  \n",
    "from math import pi\n",
    "from datetime import datetime, timedelta"
   ]
  },
  {
   "cell_type": "code",
   "execution_count": 2,
   "metadata": {},
   "outputs": [],
   "source": [
    "met_data = pd.read_excel('Meteorological Data.xlsx')\n",
    "sensor_data = pd.read_excel('Sensor Data.xlsx')"
   ]
  },
  {
   "cell_type": "code",
   "execution_count": 3,
   "metadata": {},
   "outputs": [],
   "source": [
    "met_data_1 = met_data.copy()\n",
    "met_data_2 = met_data.copy()\n",
    "\n",
    "met_data_1['Date'] = met_data_1['Date'] + timedelta(hours=1)\n",
    "met_data_2['Date'] = met_data_2['Date'] + timedelta(hours=2)\n",
    "\n",
    "met_data = met_data.append([met_data_1, met_data_2]).sort_values('Date').reset_index(drop=True)"
   ]
  },
  {
   "cell_type": "code",
   "execution_count": 4,
   "metadata": {},
   "outputs": [
    {
     "data": {
      "text/html": [
       "<div>\n",
       "<style scoped>\n",
       "    .dataframe tbody tr th:only-of-type {\n",
       "        vertical-align: middle;\n",
       "    }\n",
       "\n",
       "    .dataframe tbody tr th {\n",
       "        vertical-align: top;\n",
       "    }\n",
       "\n",
       "    .dataframe thead th {\n",
       "        text-align: right;\n",
       "    }\n",
       "</style>\n",
       "<table border=\"1\" class=\"dataframe\">\n",
       "  <thead>\n",
       "    <tr style=\"text-align: right;\">\n",
       "      <th></th>\n",
       "      <th>Chemical</th>\n",
       "      <th>Monitor</th>\n",
       "      <th>Date Time</th>\n",
       "      <th>Reading</th>\n",
       "      <th>Wind Direction</th>\n",
       "      <th>Wind Speed (m/s)</th>\n",
       "    </tr>\n",
       "  </thead>\n",
       "  <tbody>\n",
       "    <tr>\n",
       "      <th>0</th>\n",
       "      <td>Methylosmolene</td>\n",
       "      <td>3</td>\n",
       "      <td>2016-04-01 00:00:00</td>\n",
       "      <td>2.683820</td>\n",
       "      <td>190.5</td>\n",
       "      <td>4.0</td>\n",
       "    </tr>\n",
       "    <tr>\n",
       "      <th>1</th>\n",
       "      <td>Methylosmolene</td>\n",
       "      <td>7</td>\n",
       "      <td>2016-04-01 00:00:00</td>\n",
       "      <td>2.630640</td>\n",
       "      <td>190.5</td>\n",
       "      <td>4.0</td>\n",
       "    </tr>\n",
       "    <tr>\n",
       "      <th>2</th>\n",
       "      <td>Chlorodinine</td>\n",
       "      <td>3</td>\n",
       "      <td>2016-04-01 00:00:00</td>\n",
       "      <td>1.259170</td>\n",
       "      <td>190.5</td>\n",
       "      <td>4.0</td>\n",
       "    </tr>\n",
       "    <tr>\n",
       "      <th>3</th>\n",
       "      <td>Chlorodinine</td>\n",
       "      <td>7</td>\n",
       "      <td>2016-04-01 00:00:00</td>\n",
       "      <td>0.943983</td>\n",
       "      <td>190.5</td>\n",
       "      <td>4.0</td>\n",
       "    </tr>\n",
       "    <tr>\n",
       "      <th>4</th>\n",
       "      <td>AGOC-3A</td>\n",
       "      <td>3</td>\n",
       "      <td>2016-04-01 00:00:00</td>\n",
       "      <td>0.722303</td>\n",
       "      <td>190.5</td>\n",
       "      <td>4.0</td>\n",
       "    </tr>\n",
       "    <tr>\n",
       "      <th>...</th>\n",
       "      <td>...</td>\n",
       "      <td>...</td>\n",
       "      <td>...</td>\n",
       "      <td>...</td>\n",
       "      <td>...</td>\n",
       "      <td>...</td>\n",
       "    </tr>\n",
       "    <tr>\n",
       "      <th>76068</th>\n",
       "      <td>AGOC-3A</td>\n",
       "      <td>1</td>\n",
       "      <td>2016-12-31 23:00:00</td>\n",
       "      <td>0.078266</td>\n",
       "      <td>161.0</td>\n",
       "      <td>3.5</td>\n",
       "    </tr>\n",
       "    <tr>\n",
       "      <th>76069</th>\n",
       "      <td>Methylosmolene</td>\n",
       "      <td>3</td>\n",
       "      <td>2016-12-31 23:00:00</td>\n",
       "      <td>0.062784</td>\n",
       "      <td>161.0</td>\n",
       "      <td>3.5</td>\n",
       "    </tr>\n",
       "    <tr>\n",
       "      <th>76070</th>\n",
       "      <td>AGOC-3A</td>\n",
       "      <td>2</td>\n",
       "      <td>2016-12-31 23:00:00</td>\n",
       "      <td>0.060814</td>\n",
       "      <td>161.0</td>\n",
       "      <td>3.5</td>\n",
       "    </tr>\n",
       "    <tr>\n",
       "      <th>76071</th>\n",
       "      <td>Appluimonia</td>\n",
       "      <td>7</td>\n",
       "      <td>2016-12-31 23:00:00</td>\n",
       "      <td>0.039729</td>\n",
       "      <td>161.0</td>\n",
       "      <td>3.5</td>\n",
       "    </tr>\n",
       "    <tr>\n",
       "      <th>76072</th>\n",
       "      <td>AGOC-3A</td>\n",
       "      <td>7</td>\n",
       "      <td>2016-12-31 23:00:00</td>\n",
       "      <td>0.014658</td>\n",
       "      <td>161.0</td>\n",
       "      <td>3.5</td>\n",
       "    </tr>\n",
       "  </tbody>\n",
       "</table>\n",
       "<p>76073 rows × 6 columns</p>\n",
       "</div>"
      ],
      "text/plain": [
       "             Chemical  Monitor          Date Time    Reading  Wind Direction  \\\n",
       "0      Methylosmolene        3 2016-04-01 00:00:00  2.683820           190.5   \n",
       "1      Methylosmolene        7 2016-04-01 00:00:00  2.630640           190.5   \n",
       "2        Chlorodinine        3 2016-04-01 00:00:00  1.259170           190.5   \n",
       "3        Chlorodinine        7 2016-04-01 00:00:00  0.943983           190.5   \n",
       "4             AGOC-3A        3 2016-04-01 00:00:00  0.722303           190.5   \n",
       "...               ...      ...                 ...       ...             ...   \n",
       "76068         AGOC-3A        1 2016-12-31 23:00:00  0.078266           161.0   \n",
       "76069  Methylosmolene        3 2016-12-31 23:00:00  0.062784           161.0   \n",
       "76070         AGOC-3A        2 2016-12-31 23:00:00  0.060814           161.0   \n",
       "76071     Appluimonia        7 2016-12-31 23:00:00  0.039729           161.0   \n",
       "76072         AGOC-3A        7 2016-12-31 23:00:00  0.014658           161.0   \n",
       "\n",
       "       Wind Speed (m/s)  \n",
       "0                   4.0  \n",
       "1                   4.0  \n",
       "2                   4.0  \n",
       "3                   4.0  \n",
       "4                   4.0  \n",
       "...                 ...  \n",
       "76068               3.5  \n",
       "76069               3.5  \n",
       "76070               3.5  \n",
       "76071               3.5  \n",
       "76072               3.5  \n",
       "\n",
       "[76073 rows x 6 columns]"
      ]
     },
     "execution_count": 4,
     "metadata": {},
     "output_type": "execute_result"
    }
   ],
   "source": [
    "merged_data = sensor_data.merge(met_data[['Date', 'Wind Direction', 'Wind Speed (m/s)']].rename(columns={'Date': 'Date Time '}), on='Date Time ')\n",
    "merged_data"
   ]
  },
  {
   "cell_type": "code",
   "execution_count": 5,
   "metadata": {},
   "outputs": [],
   "source": [
    "for i, row in merged_data.iterrows():\n",
    "    if row['Wind Direction'] <= 180:\n",
    "        merged_data.loc[i, 'actual_direction'] = row['Wind Direction'] + 180\n",
    "    else:\n",
    "        merged_data.loc[i, 'actual_direction'] = row['Wind Direction'] - 180"
   ]
  },
  {
   "cell_type": "code",
   "execution_count": 6,
   "metadata": {},
   "outputs": [],
   "source": [
    "sensor_loc_map = {1: [62,21],\n",
    "                2: [66,35],\n",
    "                3: [76,41],\n",
    "                4: [88,45],\n",
    "                5: [103,43],\n",
    "                6: [102,22],\n",
    "                7: [89,3],\n",
    "                8: [74,7],\n",
    "                9: [119,42]}"
   ]
  },
  {
   "cell_type": "code",
   "execution_count": 7,
   "metadata": {},
   "outputs": [],
   "source": [
    "merged_data['Coordinates'] = merged_data['Monitor'].map(sensor_loc_map)\n",
    "roadrunner = Point(89, 27)\n",
    "kasios = Point(90, 21)\n",
    "radiance = Point(109, 26)\n",
    "indigo = Point(120, 22)"
   ]
  },
  {
   "cell_type": "code",
   "execution_count": 8,
   "metadata": {},
   "outputs": [],
   "source": [
    "def factory_distances(x, y, angle):  \n",
    "\n",
    "    angle = angle * pi / 180.0  \n",
    "    line = LineString([(x, y), (x + 10000 * sin(angle), y + 10000 * cos(angle))]) \n",
    "    \n",
    "    roadrunner_dist = roadrunner.distance(line)\n",
    "    kasios_dist = kasios.distance(line)\n",
    "    radiance_dist = radiance.distance(line)\n",
    "    indigo_dist = indigo.distance(line)\n",
    "    \n",
    "    return roadrunner_dist, kasios_dist, radiance_dist, indigo_dist"
   ]
  },
  {
   "cell_type": "code",
   "execution_count": 9,
   "metadata": {},
   "outputs": [
    {
     "ename": "KeyboardInterrupt",
     "evalue": "",
     "output_type": "error",
     "traceback": [
      "\u001b[0;31m---------------------------------------------------------------------------\u001b[0m",
      "\u001b[0;31mKeyboardInterrupt\u001b[0m                         Traceback (most recent call last)",
      "\u001b[0;32m<ipython-input-9-4a06f10b7a3b>\u001b[0m in \u001b[0;36m<module>\u001b[0;34m\u001b[0m\n\u001b[1;32m     11\u001b[0m     \u001b[0mmerged_data\u001b[0m\u001b[0;34m.\u001b[0m\u001b[0mloc\u001b[0m\u001b[0;34m[\u001b[0m\u001b[0mi\u001b[0m\u001b[0;34m,\u001b[0m \u001b[0;34m'second_highest_contributor'\u001b[0m\u001b[0;34m]\u001b[0m \u001b[0;34m=\u001b[0m \u001b[0mindices_order\u001b[0m\u001b[0;34m[\u001b[0m\u001b[0;36m1\u001b[0m\u001b[0;34m]\u001b[0m\u001b[0;34m\u001b[0m\u001b[0;34m\u001b[0m\u001b[0m\n\u001b[1;32m     12\u001b[0m     \u001b[0mmerged_data\u001b[0m\u001b[0;34m.\u001b[0m\u001b[0mloc\u001b[0m\u001b[0;34m[\u001b[0m\u001b[0mi\u001b[0m\u001b[0;34m,\u001b[0m \u001b[0;34m'third_highest_contributor'\u001b[0m\u001b[0;34m]\u001b[0m \u001b[0;34m=\u001b[0m \u001b[0mindices_order\u001b[0m\u001b[0;34m[\u001b[0m\u001b[0;36m2\u001b[0m\u001b[0;34m]\u001b[0m\u001b[0;34m\u001b[0m\u001b[0;34m\u001b[0m\u001b[0m\n\u001b[0;32m---> 13\u001b[0;31m     \u001b[0mmerged_data\u001b[0m\u001b[0;34m.\u001b[0m\u001b[0mloc\u001b[0m\u001b[0;34m[\u001b[0m\u001b[0mi\u001b[0m\u001b[0;34m,\u001b[0m \u001b[0;34m'fourth_highest_contributor'\u001b[0m\u001b[0;34m]\u001b[0m \u001b[0;34m=\u001b[0m \u001b[0mindices_order\u001b[0m\u001b[0;34m[\u001b[0m\u001b[0;36m3\u001b[0m\u001b[0;34m]\u001b[0m\u001b[0;34m\u001b[0m\u001b[0;34m\u001b[0m\u001b[0m\n\u001b[0m",
      "\u001b[0;32m~/anaconda3/lib/python3.7/site-packages/pandas/core/indexing.py\u001b[0m in \u001b[0;36m__setitem__\u001b[0;34m(self, key, value)\u001b[0m\n\u001b[1;32m    669\u001b[0m             \u001b[0mkey\u001b[0m \u001b[0;34m=\u001b[0m \u001b[0mcom\u001b[0m\u001b[0;34m.\u001b[0m\u001b[0mapply_if_callable\u001b[0m\u001b[0;34m(\u001b[0m\u001b[0mkey\u001b[0m\u001b[0;34m,\u001b[0m \u001b[0mself\u001b[0m\u001b[0;34m.\u001b[0m\u001b[0mobj\u001b[0m\u001b[0;34m)\u001b[0m\u001b[0;34m\u001b[0m\u001b[0;34m\u001b[0m\u001b[0m\n\u001b[1;32m    670\u001b[0m         \u001b[0mindexer\u001b[0m \u001b[0;34m=\u001b[0m \u001b[0mself\u001b[0m\u001b[0;34m.\u001b[0m\u001b[0m_get_setitem_indexer\u001b[0m\u001b[0;34m(\u001b[0m\u001b[0mkey\u001b[0m\u001b[0;34m)\u001b[0m\u001b[0;34m\u001b[0m\u001b[0;34m\u001b[0m\u001b[0m\n\u001b[0;32m--> 671\u001b[0;31m         \u001b[0mself\u001b[0m\u001b[0;34m.\u001b[0m\u001b[0m_setitem_with_indexer\u001b[0m\u001b[0;34m(\u001b[0m\u001b[0mindexer\u001b[0m\u001b[0;34m,\u001b[0m \u001b[0mvalue\u001b[0m\u001b[0;34m)\u001b[0m\u001b[0;34m\u001b[0m\u001b[0;34m\u001b[0m\u001b[0m\n\u001b[0m\u001b[1;32m    672\u001b[0m \u001b[0;34m\u001b[0m\u001b[0m\n\u001b[1;32m    673\u001b[0m     \u001b[0;32mdef\u001b[0m \u001b[0m_validate_key\u001b[0m\u001b[0;34m(\u001b[0m\u001b[0mself\u001b[0m\u001b[0;34m,\u001b[0m \u001b[0mkey\u001b[0m\u001b[0;34m,\u001b[0m \u001b[0maxis\u001b[0m\u001b[0;34m:\u001b[0m \u001b[0mint\u001b[0m\u001b[0;34m)\u001b[0m\u001b[0;34m:\u001b[0m\u001b[0;34m\u001b[0m\u001b[0;34m\u001b[0m\u001b[0m\n",
      "\u001b[0;32m~/anaconda3/lib/python3.7/site-packages/pandas/core/indexing.py\u001b[0m in \u001b[0;36m_setitem_with_indexer\u001b[0;34m(self, indexer, value)\u001b[0m\n\u001b[1;32m   1027\u001b[0m                 \u001b[0;31m# scalar\u001b[0m\u001b[0;34m\u001b[0m\u001b[0;34m\u001b[0m\u001b[0;34m\u001b[0m\u001b[0m\n\u001b[1;32m   1028\u001b[0m                 \u001b[0;32mfor\u001b[0m \u001b[0mitem\u001b[0m \u001b[0;32min\u001b[0m \u001b[0mlabels\u001b[0m\u001b[0;34m:\u001b[0m\u001b[0;34m\u001b[0m\u001b[0;34m\u001b[0m\u001b[0m\n\u001b[0;32m-> 1029\u001b[0;31m                     \u001b[0msetter\u001b[0m\u001b[0;34m(\u001b[0m\u001b[0mitem\u001b[0m\u001b[0;34m,\u001b[0m \u001b[0mvalue\u001b[0m\u001b[0;34m)\u001b[0m\u001b[0;34m\u001b[0m\u001b[0;34m\u001b[0m\u001b[0m\n\u001b[0m\u001b[1;32m   1030\u001b[0m \u001b[0;34m\u001b[0m\u001b[0m\n\u001b[1;32m   1031\u001b[0m         \u001b[0;32melse\u001b[0m\u001b[0;34m:\u001b[0m\u001b[0;34m\u001b[0m\u001b[0;34m\u001b[0m\u001b[0m\n",
      "\u001b[0;32m~/anaconda3/lib/python3.7/site-packages/pandas/core/indexing.py\u001b[0m in \u001b[0;36msetter\u001b[0;34m(item, v)\u001b[0m\n\u001b[1;32m    964\u001b[0m \u001b[0;34m\u001b[0m\u001b[0m\n\u001b[1;32m    965\u001b[0m                 \u001b[0;31m# reset the sliced object if unique\u001b[0m\u001b[0;34m\u001b[0m\u001b[0;34m\u001b[0m\u001b[0;34m\u001b[0m\u001b[0m\n\u001b[0;32m--> 966\u001b[0;31m                 \u001b[0mself\u001b[0m\u001b[0;34m.\u001b[0m\u001b[0mobj\u001b[0m\u001b[0;34m[\u001b[0m\u001b[0mitem\u001b[0m\u001b[0;34m]\u001b[0m \u001b[0;34m=\u001b[0m \u001b[0ms\u001b[0m\u001b[0;34m\u001b[0m\u001b[0;34m\u001b[0m\u001b[0m\n\u001b[0m\u001b[1;32m    967\u001b[0m \u001b[0;34m\u001b[0m\u001b[0m\n\u001b[1;32m    968\u001b[0m             \u001b[0;31m# we need an iterable, with a ndim of at least 1\u001b[0m\u001b[0;34m\u001b[0m\u001b[0;34m\u001b[0m\u001b[0;34m\u001b[0m\u001b[0m\n",
      "\u001b[0;32m~/anaconda3/lib/python3.7/site-packages/pandas/core/frame.py\u001b[0m in \u001b[0;36m__setitem__\u001b[0;34m(self, key, value)\u001b[0m\n\u001b[1;32m   2924\u001b[0m \u001b[0;34m\u001b[0m\u001b[0m\n\u001b[1;32m   2925\u001b[0m         \u001b[0;31m# see if we can slice the rows\u001b[0m\u001b[0;34m\u001b[0m\u001b[0;34m\u001b[0m\u001b[0;34m\u001b[0m\u001b[0m\n\u001b[0;32m-> 2926\u001b[0;31m         \u001b[0mindexer\u001b[0m \u001b[0;34m=\u001b[0m \u001b[0mconvert_to_index_sliceable\u001b[0m\u001b[0;34m(\u001b[0m\u001b[0mself\u001b[0m\u001b[0;34m,\u001b[0m \u001b[0mkey\u001b[0m\u001b[0;34m)\u001b[0m\u001b[0;34m\u001b[0m\u001b[0;34m\u001b[0m\u001b[0m\n\u001b[0m\u001b[1;32m   2927\u001b[0m         \u001b[0;32mif\u001b[0m \u001b[0mindexer\u001b[0m \u001b[0;32mis\u001b[0m \u001b[0;32mnot\u001b[0m \u001b[0;32mNone\u001b[0m\u001b[0;34m:\u001b[0m\u001b[0;34m\u001b[0m\u001b[0;34m\u001b[0m\u001b[0m\n\u001b[1;32m   2928\u001b[0m             \u001b[0;31m# either we have a slice or we have a string that can be converted\u001b[0m\u001b[0;34m\u001b[0m\u001b[0;34m\u001b[0m\u001b[0;34m\u001b[0m\u001b[0m\n",
      "\u001b[0;32m~/anaconda3/lib/python3.7/site-packages/pandas/core/indexing.py\u001b[0m in \u001b[0;36mconvert_to_index_sliceable\u001b[0;34m(obj, key)\u001b[0m\n\u001b[1;32m   2264\u001b[0m     \"\"\"\n\u001b[1;32m   2265\u001b[0m     \u001b[0midx\u001b[0m \u001b[0;34m=\u001b[0m \u001b[0mobj\u001b[0m\u001b[0;34m.\u001b[0m\u001b[0mindex\u001b[0m\u001b[0;34m\u001b[0m\u001b[0;34m\u001b[0m\u001b[0m\n\u001b[0;32m-> 2266\u001b[0;31m     \u001b[0;32mif\u001b[0m \u001b[0misinstance\u001b[0m\u001b[0;34m(\u001b[0m\u001b[0mkey\u001b[0m\u001b[0;34m,\u001b[0m \u001b[0mslice\u001b[0m\u001b[0;34m)\u001b[0m\u001b[0;34m:\u001b[0m\u001b[0;34m\u001b[0m\u001b[0;34m\u001b[0m\u001b[0m\n\u001b[0m\u001b[1;32m   2267\u001b[0m         \u001b[0;32mreturn\u001b[0m \u001b[0midx\u001b[0m\u001b[0;34m.\u001b[0m\u001b[0m_convert_slice_indexer\u001b[0m\u001b[0;34m(\u001b[0m\u001b[0mkey\u001b[0m\u001b[0;34m,\u001b[0m \u001b[0mkind\u001b[0m\u001b[0;34m=\u001b[0m\u001b[0;34m\"getitem\"\u001b[0m\u001b[0;34m)\u001b[0m\u001b[0;34m\u001b[0m\u001b[0;34m\u001b[0m\u001b[0m\n\u001b[1;32m   2268\u001b[0m \u001b[0;34m\u001b[0m\u001b[0m\n",
      "\u001b[0;31mKeyboardInterrupt\u001b[0m: "
     ]
    }
   ],
   "source": [
    "for i, row in merged_data.iterrows():\n",
    "    roadrunner_dist, kasios_dist, radiance_dist, indigo_dist = factory_distances(row['Coordinates'][0], row['Coordinates'][1], row['actual_direction'])\n",
    "    merged_data.loc[i, 'roadrunner_dist'] = roadrunner_dist\n",
    "    merged_data.loc[i, 'kasios_dist'] = kasios_dist\n",
    "    merged_data.loc[i, 'radiance_dist'] = radiance_dist\n",
    "    merged_data.loc[i, 'indigo_dist'] = indigo_dist\n",
    "    \n",
    "    l = [roadrunner_dist, kasios_dist, radiance_dist, indigo_dist]\n",
    "    indices_order = [l.index(x) for x in sorted(l)]\n",
    "    merged_data.loc[i, 'highest_contributor'] = indices_order[0]\n",
    "    merged_data.loc[i, 'second_highest_contributor'] = indices_order[1]\n",
    "    merged_data.loc[i, 'third_highest_contributor'] = indices_order[2]\n",
    "    merged_data.loc[i, 'fourth_highest_contributor'] = indices_order[3]"
   ]
  },
  {
   "cell_type": "code",
   "execution_count": null,
   "metadata": {},
   "outputs": [],
   "source": [
    "factory_map = {0: 'Roadrunner Fitness Electronics',\n",
    "                1: 'Kasios Office Furniture',\n",
    "                2: 'Radiance ColourTek',\n",
    "                3: 'Indigo Sol Boards',}"
   ]
  },
  {
   "cell_type": "code",
   "execution_count": null,
   "metadata": {},
   "outputs": [],
   "source": [
    "merged_data['highest_contributor'] = merged_data['highest_contributor'].map(factory_map)\n",
    "merged_data['second_highest_contributor'] = merged_data['second_highest_contributor'].map(factory_map)\n",
    "merged_data['third_highest_contributor'] = merged_data['third_highest_contributor'].map(factory_map)\n",
    "merged_data['fourth_highest_contributor'] = merged_data['fourth_highest_contributor'].map(factory_map)"
   ]
  },
  {
   "cell_type": "code",
   "execution_count": null,
   "metadata": {},
   "outputs": [],
   "source": [
    "merged_data"
   ]
  },
  {
   "cell_type": "code",
   "execution_count": null,
   "metadata": {},
   "outputs": [],
   "source": [
    "merged_data.to_csv('complete_data.csv', index=False)"
   ]
  },
  {
   "cell_type": "code",
   "execution_count": null,
   "metadata": {},
   "outputs": [],
   "source": []
  }
 ],
 "metadata": {
  "kernelspec": {
   "display_name": "Python 3",
   "language": "python",
   "name": "python3"
  },
  "language_info": {
   "codemirror_mode": {
    "name": "ipython",
    "version": 3
   },
   "file_extension": ".py",
   "mimetype": "text/x-python",
   "name": "python",
   "nbconvert_exporter": "python",
   "pygments_lexer": "ipython3",
   "version": "3.7.3"
  }
 },
 "nbformat": 4,
 "nbformat_minor": 4
}
